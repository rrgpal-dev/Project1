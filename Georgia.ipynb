{
 "cells": [
  {
   "cell_type": "code",
   "execution_count": 1,
   "metadata": {},
   "outputs": [],
   "source": [
    "# Dependencies and Setup\n",
    "import matplotlib.pyplot as plt\n",
    "import pandas as pd\n",
    "import scipy.stats as st\n",
    "import numpy as np"
   ]
  },
  {
   "cell_type": "code",
   "execution_count": 2,
   "metadata": {},
   "outputs": [],
   "source": [
    "# File to Load\n",
    "file_to_load_1 = \"/Users/adesolafakiyesi/Desktop/Project1/Resources/georgia_tvotes.csv\"\n",
    "file_to_load_2 = \"/Users/adesolafakiyesi/Desktop/Project1/Resources/georgia_race.csv\"\n",
    "file_to_load_3 = \"/Users/adesolafakiyesi/Desktop/Project1/Resources/ga_gender.csv\"\n",
    "file_to_load_4 = \"/Users/adesolafakiyesi/Desktop/Project1/Resources/ga_age.csv\"\n",
    "file_to_load_5 = \"/Users/adesolafakiyesi/Desktop/Project1/Resources/georgia_tv_tev.csv\""
   ]
  },
  {
   "cell_type": "code",
   "execution_count": 3,
   "metadata": {},
   "outputs": [
    {
     "data": {
      "text/html": [
       "<div>\n",
       "<style scoped>\n",
       "    .dataframe tbody tr th:only-of-type {\n",
       "        vertical-align: middle;\n",
       "    }\n",
       "\n",
       "    .dataframe tbody tr th {\n",
       "        vertical-align: top;\n",
       "    }\n",
       "\n",
       "    .dataframe thead th {\n",
       "        text-align: right;\n",
       "    }\n",
       "</style>\n",
       "<table border=\"1\" class=\"dataframe\">\n",
       "  <thead>\n",
       "    <tr style=\"text-align: right;\">\n",
       "      <th></th>\n",
       "      <th>County</th>\n",
       "      <th>Registered Voters</th>\n",
       "      <th>Total Voted</th>\n",
       "      <th>Percent Voted</th>\n",
       "    </tr>\n",
       "  </thead>\n",
       "  <tbody>\n",
       "    <tr>\n",
       "      <th>0</th>\n",
       "      <td>APPLING</td>\n",
       "      <td>10,973</td>\n",
       "      <td>6,291</td>\n",
       "      <td>57.30%</td>\n",
       "    </tr>\n",
       "    <tr>\n",
       "      <th>1</th>\n",
       "      <td>ATKINSON</td>\n",
       "      <td>4,742</td>\n",
       "      <td>2,186</td>\n",
       "      <td>46.10%</td>\n",
       "    </tr>\n",
       "    <tr>\n",
       "      <th>2</th>\n",
       "      <td>BACON</td>\n",
       "      <td>6,588</td>\n",
       "      <td>4,097</td>\n",
       "      <td>62.20%</td>\n",
       "    </tr>\n",
       "    <tr>\n",
       "      <th>3</th>\n",
       "      <td>BAKER</td>\n",
       "      <td>2,217</td>\n",
       "      <td>1,112</td>\n",
       "      <td>50.20%</td>\n",
       "    </tr>\n",
       "    <tr>\n",
       "      <th>4</th>\n",
       "      <td>BALDWIN</td>\n",
       "      <td>26,063</td>\n",
       "      <td>14,835</td>\n",
       "      <td>56.90%</td>\n",
       "    </tr>\n",
       "  </tbody>\n",
       "</table>\n",
       "</div>"
      ],
      "text/plain": [
       "     County Registered Voters Total Voted Percent Voted\n",
       "0   APPLING            10,973       6,291        57.30%\n",
       "1  ATKINSON             4,742       2,186        46.10%\n",
       "2     BACON             6,588       4,097        62.20%\n",
       "3     BAKER             2,217       1,112        50.20%\n",
       "4   BALDWIN            26,063      14,835        56.90%"
      ]
     },
     "execution_count": 3,
     "metadata": {},
     "output_type": "execute_result"
    }
   ],
   "source": [
    "# Read Michigan File and store into Pandas data frame\n",
    "georgia_tvotes_data = pd.read_csv(file_to_load_1)\n",
    "georgia_tvotes_data.head()"
   ]
  },
  {
   "cell_type": "code",
   "execution_count": 4,
   "metadata": {},
   "outputs": [
    {
     "data": {
      "text/html": [
       "<div>\n",
       "<style scoped>\n",
       "    .dataframe tbody tr th:only-of-type {\n",
       "        vertical-align: middle;\n",
       "    }\n",
       "\n",
       "    .dataframe tbody tr th {\n",
       "        vertical-align: top;\n",
       "    }\n",
       "\n",
       "    .dataframe thead th {\n",
       "        text-align: right;\n",
       "    }\n",
       "</style>\n",
       "<table border=\"1\" class=\"dataframe\">\n",
       "  <thead>\n",
       "    <tr style=\"text-align: right;\">\n",
       "      <th></th>\n",
       "      <th>County</th>\n",
       "      <th>Registered Voters</th>\n",
       "      <th>Total Voted</th>\n",
       "      <th>Percent Voted</th>\n",
       "    </tr>\n",
       "  </thead>\n",
       "  <tbody>\n",
       "    <tr>\n",
       "      <th>0</th>\n",
       "      <td>APPLING</td>\n",
       "      <td>10973</td>\n",
       "      <td>6291</td>\n",
       "      <td>57.30%</td>\n",
       "    </tr>\n",
       "    <tr>\n",
       "      <th>1</th>\n",
       "      <td>ATKINSON</td>\n",
       "      <td>4742</td>\n",
       "      <td>2186</td>\n",
       "      <td>46.10%</td>\n",
       "    </tr>\n",
       "    <tr>\n",
       "      <th>2</th>\n",
       "      <td>BACON</td>\n",
       "      <td>6588</td>\n",
       "      <td>4097</td>\n",
       "      <td>62.20%</td>\n",
       "    </tr>\n",
       "    <tr>\n",
       "      <th>3</th>\n",
       "      <td>BAKER</td>\n",
       "      <td>2217</td>\n",
       "      <td>1112</td>\n",
       "      <td>50.20%</td>\n",
       "    </tr>\n",
       "    <tr>\n",
       "      <th>4</th>\n",
       "      <td>BALDWIN</td>\n",
       "      <td>26063</td>\n",
       "      <td>14835</td>\n",
       "      <td>56.90%</td>\n",
       "    </tr>\n",
       "    <tr>\n",
       "      <th>...</th>\n",
       "      <td>...</td>\n",
       "      <td>...</td>\n",
       "      <td>...</td>\n",
       "      <td>...</td>\n",
       "    </tr>\n",
       "    <tr>\n",
       "      <th>154</th>\n",
       "      <td>WHITFIELD</td>\n",
       "      <td>53306</td>\n",
       "      <td>24831</td>\n",
       "      <td>46.60%</td>\n",
       "    </tr>\n",
       "    <tr>\n",
       "      <th>155</th>\n",
       "      <td>WILCOX</td>\n",
       "      <td>4293</td>\n",
       "      <td>2250</td>\n",
       "      <td>52.40%</td>\n",
       "    </tr>\n",
       "    <tr>\n",
       "      <th>156</th>\n",
       "      <td>WILKES</td>\n",
       "      <td>6671</td>\n",
       "      <td>3790</td>\n",
       "      <td>56.80%</td>\n",
       "    </tr>\n",
       "    <tr>\n",
       "      <th>157</th>\n",
       "      <td>WILKINSON</td>\n",
       "      <td>6285</td>\n",
       "      <td>2935</td>\n",
       "      <td>46.70%</td>\n",
       "    </tr>\n",
       "    <tr>\n",
       "      <th>158</th>\n",
       "      <td>WORTH</td>\n",
       "      <td>13612</td>\n",
       "      <td>5918</td>\n",
       "      <td>43.50%</td>\n",
       "    </tr>\n",
       "  </tbody>\n",
       "</table>\n",
       "<p>159 rows × 4 columns</p>\n",
       "</div>"
      ],
      "text/plain": [
       "        County Registered Voters Total Voted Percent Voted\n",
       "0      APPLING             10973        6291        57.30%\n",
       "1     ATKINSON              4742        2186        46.10%\n",
       "2        BACON              6588        4097        62.20%\n",
       "3        BAKER              2217        1112        50.20%\n",
       "4      BALDWIN             26063       14835        56.90%\n",
       "..         ...               ...         ...           ...\n",
       "154  WHITFIELD             53306       24831        46.60%\n",
       "155     WILCOX              4293        2250        52.40%\n",
       "156     WILKES              6671        3790        56.80%\n",
       "157  WILKINSON              6285        2935        46.70%\n",
       "158      WORTH             13612        5918        43.50%\n",
       "\n",
       "[159 rows x 4 columns]"
      ]
     },
     "execution_count": 4,
     "metadata": {},
     "output_type": "execute_result"
    }
   ],
   "source": [
    "#Get rid of commas in each of the needed Columns\n",
    "Columns = ['Registered Voters', 'Total Voted']\n",
    "for i in Columns:\n",
    "    georgia_tvotes_data[i]=georgia_tvotes_data[i].str.replace(',','')\n",
    "georgia_tvotes_data"
   ]
  },
  {
   "cell_type": "code",
   "execution_count": 5,
   "metadata": {},
   "outputs": [],
   "source": [
    "# Change all objects to numeric\n",
    "Columns = ['Registered Voters', 'Total Voted',]\n",
    "georgia_tvotes_data[Columns] = georgia_tvotes_data[Columns].apply(pd.to_numeric, errors='coerce', axis=1)"
   ]
  },
  {
   "cell_type": "code",
   "execution_count": 6,
   "metadata": {},
   "outputs": [
    {
     "name": "stdout",
     "output_type": "stream",
     "text": [
      "<class 'pandas.core.frame.DataFrame'>\n",
      "RangeIndex: 159 entries, 0 to 158\n",
      "Data columns (total 4 columns):\n",
      " #   Column             Non-Null Count  Dtype \n",
      "---  ------             --------------  ----- \n",
      " 0   County             159 non-null    object\n",
      " 1   Registered Voters  159 non-null    int64 \n",
      " 2   Total Voted        159 non-null    int64 \n",
      " 3   Percent Voted      159 non-null    object\n",
      "dtypes: int64(2), object(2)\n",
      "memory usage: 5.1+ KB\n"
     ]
    }
   ],
   "source": [
    "georgia_tvotes_data.info()"
   ]
  },
  {
   "cell_type": "code",
   "execution_count": 7,
   "metadata": {},
   "outputs": [
    {
     "data": {
      "text/html": [
       "<div>\n",
       "<style scoped>\n",
       "    .dataframe tbody tr th:only-of-type {\n",
       "        vertical-align: middle;\n",
       "    }\n",
       "\n",
       "    .dataframe tbody tr th {\n",
       "        vertical-align: top;\n",
       "    }\n",
       "\n",
       "    .dataframe thead th {\n",
       "        text-align: right;\n",
       "    }\n",
       "</style>\n",
       "<table border=\"1\" class=\"dataframe\">\n",
       "  <thead>\n",
       "    <tr style=\"text-align: right;\">\n",
       "      <th></th>\n",
       "      <th>Total Registered</th>\n",
       "      <th>Total Voted</th>\n",
       "    </tr>\n",
       "  </thead>\n",
       "  <tbody>\n",
       "    <tr>\n",
       "      <th>0</th>\n",
       "      <td>7002328</td>\n",
       "      <td>4013155</td>\n",
       "    </tr>\n",
       "  </tbody>\n",
       "</table>\n",
       "</div>"
      ],
      "text/plain": [
       "   Total Registered  Total Voted\n",
       "0           7002328      4013155"
      ]
     },
     "execution_count": 7,
     "metadata": {},
     "output_type": "execute_result"
    }
   ],
   "source": [
    "total_registered = georgia_tvotes_data[\"Registered Voters\"].sum()\n",
    "total_voted = georgia_tvotes_data[\"Total Voted\"].sum()\n",
    "summary_df = pd.DataFrame({\"Total Registered\": [total_registered], \"Total Voted\": [total_voted]})\n",
    "summary_df"
   ]
  },
  {
   "cell_type": "code",
   "execution_count": 8,
   "metadata": {},
   "outputs": [
    {
     "data": {
      "image/png": "[encoded data removed]",
      "text/plain": [
       "<Figure size 432x432 with 1 Axes>"
      ]
     },
     "metadata": {},
     "output_type": "display_data"
    }
   ],
   "source": [
    "#Make a pie chart to show the percentage totals of various parties that early voted in Florida\n",
    "# The colors of each section of the pie chart\n",
    "colors = [\"m\", \"y\"]\n",
    "# Explode out the pie pieces\n",
    "# explode = (0, 0.1)\n",
    "georgia_tvotes_data =  pd.DataFrame({'Total Count': [7002328, 3957889]},\n",
    "                                          index=['Total Registered','Total Votes'])\n",
    "plot = georgia_tvotes_data.plot.pie(y='Total Count', figsize=(6, 6), autopct=\"%1.1f%%\", colors=colors, shadow=True)\n",
    "plt.legend(loc=\"center left\", fontsize=10)\n",
    "plt.show()"
   ]
  },
  {
   "cell_type": "code",
   "execution_count": 9,
   "metadata": {},
   "outputs": [
    {
     "data": {
      "text/html": [
       "<div>\n",
       "<style scoped>\n",
       "    .dataframe tbody tr th:only-of-type {\n",
       "        vertical-align: middle;\n",
       "    }\n",
       "\n",
       "    .dataframe tbody tr th {\n",
       "        vertical-align: top;\n",
       "    }\n",
       "\n",
       "    .dataframe thead th {\n",
       "        text-align: right;\n",
       "    }\n",
       "</style>\n",
       "<table border=\"1\" class=\"dataframe\">\n",
       "  <thead>\n",
       "    <tr style=\"text-align: right;\">\n",
       "      <th></th>\n",
       "      <th>Age</th>\n",
       "      <th>Count</th>\n",
       "      <th>Percent</th>\n",
       "    </tr>\n",
       "  </thead>\n",
       "  <tbody>\n",
       "    <tr>\n",
       "      <th>0</th>\n",
       "      <td>18 to 24</td>\n",
       "      <td>319,839</td>\n",
       "      <td>8.0</td>\n",
       "    </tr>\n",
       "    <tr>\n",
       "      <th>1</th>\n",
       "      <td>25 to 34</td>\n",
       "      <td>504,417</td>\n",
       "      <td>12.6</td>\n",
       "    </tr>\n",
       "    <tr>\n",
       "      <th>2</th>\n",
       "      <td>35 to 44</td>\n",
       "      <td>579,464</td>\n",
       "      <td>14.4</td>\n",
       "    </tr>\n",
       "    <tr>\n",
       "      <th>3</th>\n",
       "      <td>45 and 55</td>\n",
       "      <td>714,182</td>\n",
       "      <td>17.8</td>\n",
       "    </tr>\n",
       "    <tr>\n",
       "      <th>4</th>\n",
       "      <td>56 and 65</td>\n",
       "      <td>780,824</td>\n",
       "      <td>19.5</td>\n",
       "    </tr>\n",
       "  </tbody>\n",
       "</table>\n",
       "</div>"
      ],
      "text/plain": [
       "         Age    Count  Percent\n",
       "0   18 to 24  319,839      8.0\n",
       "1   25 to 34  504,417     12.6\n",
       "2   35 to 44  579,464     14.4\n",
       "3  45 and 55  714,182     17.8\n",
       "4  56 and 65  780,824     19.5"
      ]
     },
     "execution_count": 9,
     "metadata": {},
     "output_type": "execute_result"
    }
   ],
   "source": [
    "# Study data files\n",
    "file_to_load_4 = \"/Users/adesolafakiyesi/Desktop/Project1/Resources/ga_age.csv\"\n",
    "\n",
    "# Read the mouse data and the study results\n",
    "georgia_age = pd.read_csv(file_to_load_4)\n",
    "\n",
    "# Display the data table for preview\n",
    "georgia_age.head()"
   ]
  },
  {
   "cell_type": "code",
   "execution_count": 10,
   "metadata": {},
   "outputs": [
    {
     "data": {
      "image/png": "[encoded data removed]",
      "text/plain": [
       "<Figure size 432x432 with 1 Axes>"
      ]
     },
     "metadata": {
      "needs_background": "light"
     },
     "output_type": "display_data"
    }
   ],
   "source": [
    "# Use DataFrame.plot() in order to create a bar chart of the data\n",
    "color = [\"c\", \"orange\", \"olive\", \"cyan\", \"crimson\"]\n",
    "clean_table= pd.DataFrame({'Age Ranges':['18-24', '25-34', '35-44', '45-55', '56-65'],\n",
    "                               'Votes Count':[225652, 369507, 441611, 551994, 551585]})\n",
    "clean_table.plot.bar(x='Age Ranges', y='Votes Count', rot=0, figsize=(6,6), color=color)\n",
    "# Set a title for the chart\n",
    "plt.title(\"Age ranges - Georgia\")\n",
    "# Set labels for the chart\n",
    "plt.xlabel(\"Age Ranges\")\n",
    "plt.ylabel(\"Vote Count\")\n",
    "# Show the graph\n",
    "plt.show()"
   ]
  },
  {
   "cell_type": "code",
   "execution_count": 11,
   "metadata": {},
   "outputs": [
    {
     "data": {
      "text/html": [
       "<div>\n",
       "<style scoped>\n",
       "    .dataframe tbody tr th:only-of-type {\n",
       "        vertical-align: middle;\n",
       "    }\n",
       "\n",
       "    .dataframe tbody tr th {\n",
       "        vertical-align: top;\n",
       "    }\n",
       "\n",
       "    .dataframe thead th {\n",
       "        text-align: right;\n",
       "    }\n",
       "</style>\n",
       "<table border=\"1\" class=\"dataframe\">\n",
       "  <thead>\n",
       "    <tr style=\"text-align: right;\">\n",
       "      <th></th>\n",
       "      <th>Gender</th>\n",
       "      <th>Count</th>\n",
       "      <th>Percent</th>\n",
       "    </tr>\n",
       "  </thead>\n",
       "  <tbody>\n",
       "    <tr>\n",
       "      <th>0</th>\n",
       "      <td>Female</td>\n",
       "      <td>2,214,817</td>\n",
       "      <td>55.2</td>\n",
       "    </tr>\n",
       "    <tr>\n",
       "      <th>1</th>\n",
       "      <td>Male</td>\n",
       "      <td>1,720,269</td>\n",
       "      <td>42.9</td>\n",
       "    </tr>\n",
       "    <tr>\n",
       "      <th>2</th>\n",
       "      <td>Unknown</td>\n",
       "      <td>78,069</td>\n",
       "      <td>1.9</td>\n",
       "    </tr>\n",
       "    <tr>\n",
       "      <th>3</th>\n",
       "      <td>TOTAL</td>\n",
       "      <td>4,013,155</td>\n",
       "      <td>100.0</td>\n",
       "    </tr>\n",
       "  </tbody>\n",
       "</table>\n",
       "</div>"
      ],
      "text/plain": [
       "    Gender      Count  Percent\n",
       "0   Female  2,214,817     55.2\n",
       "1     Male  1,720,269     42.9\n",
       "2  Unknown     78,069      1.9\n",
       "3    TOTAL  4,013,155    100.0"
      ]
     },
     "execution_count": 11,
     "metadata": {},
     "output_type": "execute_result"
    }
   ],
   "source": [
    "# Study data files\n",
    "file_to_load_3 = \"/Users/adesolafakiyesi/Desktop/Project1/Resources/ga_gender.csv\"\n",
    "\n",
    "# Read the mouse data and the study results\n",
    "georgia_gender = pd.read_csv(file_to_load_3)\n",
    "\n",
    "# Display the data table for preview\n",
    "georgia_gender.head()"
   ]
  },
  {
   "cell_type": "code",
   "execution_count": 12,
   "metadata": {},
   "outputs": [
    {
     "data": {
      "image/png": "[encoded data removed]",
      "text/plain": [
       "<Figure size 432x432 with 1 Axes>"
      ]
     },
     "metadata": {
      "needs_background": "light"
     },
     "output_type": "display_data"
    }
   ],
   "source": [
    "# Use DataFrame.plot() in order to create a bar chart of the data\n",
    "color = [\"red\", \"blue\", \"green\"]\n",
    "clean_table= pd.DataFrame({'Gender':['Female', 'Male', 'Unknown'],\n",
    "                               'Votes Count':[1466915, 1162467, 60314]})\n",
    "clean_table.plot.bar(x='Gender', y='Votes Count', rot=0, figsize=(6,6), color=color)\n",
    "# Set a title for the chart\n",
    "plt.title(\"Gender - Georgia\")\n",
    "# Set labels for the chart\n",
    "plt.xlabel(\"Gender\")\n",
    "plt.ylabel(\"Vote Count\")\n",
    "# Show the graph\n",
    "plt.show()"
   ]
  },
  {
   "cell_type": "code",
   "execution_count": 13,
   "metadata": {},
   "outputs": [
    {
     "data": {
      "text/html": [
       "<div>\n",
       "<style scoped>\n",
       "    .dataframe tbody tr th:only-of-type {\n",
       "        vertical-align: middle;\n",
       "    }\n",
       "\n",
       "    .dataframe tbody tr th {\n",
       "        vertical-align: top;\n",
       "    }\n",
       "\n",
       "    .dataframe thead th {\n",
       "        text-align: right;\n",
       "    }\n",
       "</style>\n",
       "<table border=\"1\" class=\"dataframe\">\n",
       "  <thead>\n",
       "    <tr style=\"text-align: right;\">\n",
       "      <th></th>\n",
       "      <th>Race</th>\n",
       "      <th>Count</th>\n",
       "      <th>Percent</th>\n",
       "    </tr>\n",
       "  </thead>\n",
       "  <tbody>\n",
       "    <tr>\n",
       "      <th>0</th>\n",
       "      <td>Non-Hispanic White</td>\n",
       "      <td>2,266,958</td>\n",
       "      <td>56.5</td>\n",
       "    </tr>\n",
       "    <tr>\n",
       "      <th>1</th>\n",
       "      <td>Non-Hispanic Black</td>\n",
       "      <td>1,110,567</td>\n",
       "      <td>27.7</td>\n",
       "    </tr>\n",
       "    <tr>\n",
       "      <th>2</th>\n",
       "      <td>Hispanic</td>\n",
       "      <td>105,852</td>\n",
       "      <td>2.6</td>\n",
       "    </tr>\n",
       "    <tr>\n",
       "      <th>3</th>\n",
       "      <td>Non-Hispanic Asian American</td>\n",
       "      <td>102,368</td>\n",
       "      <td>2.6</td>\n",
       "    </tr>\n",
       "    <tr>\n",
       "      <th>4</th>\n",
       "      <td>Non-Hispanic Native American</td>\n",
       "      <td>5,592</td>\n",
       "      <td>0.1</td>\n",
       "    </tr>\n",
       "  </tbody>\n",
       "</table>\n",
       "</div>"
      ],
      "text/plain": [
       "                           Race      Count  Percent\n",
       "0            Non-Hispanic White  2,266,958     56.5\n",
       "1            Non-Hispanic Black  1,110,567     27.7\n",
       "2                      Hispanic    105,852      2.6\n",
       "3   Non-Hispanic Asian American    102,368      2.6\n",
       "4  Non-Hispanic Native American      5,592      0.1"
      ]
     },
     "execution_count": 13,
     "metadata": {},
     "output_type": "execute_result"
    }
   ],
   "source": [
    "# Study data files\n",
    "file_to_load_2 = \"/Users/adesolafakiyesi/Desktop/Project1/Resources/georgia_race.csv\"\n",
    "\n",
    "# # Read the mouse data and the study results\n",
    "georgia_race = pd.read_csv(file_to_load_2)\n",
    "\n",
    "# Display the data table for preview\n",
    "georgia_race.head()"
   ]
  },
  {
   "cell_type": "code",
   "execution_count": 14,
   "metadata": {},
   "outputs": [
    {
     "data": {
      "image/png": "[encoded data removed]",
      "text/plain": [
       "<Figure size 432x432 with 1 Axes>"
      ]
     },
     "metadata": {
      "needs_background": "light"
     },
     "output_type": "display_data"
    }
   ],
   "source": [
    "# Use DataFrame.plot() in order to create a bar chart of the data\n",
    "color = [\"maroon\", \"navy\", \"lime\", \"yellow\", \"purple\"]\n",
    "clean_table= pd.DataFrame({'Race':['Non-Hispanic white', 'Non-Hispanic Black', 'Hispanic', \n",
    "                                   'Non-Hispanic Asian American', 'None-Hispanic Native American'],\n",
    "                               'Votes Count':[1564384, 710367, 71100, 53028, 3653]})\n",
    "clean_table.plot.bar(x='Race', y='Votes Count', rot=0, figsize=(6,6), color=color)\n",
    "# Set a title for the chart\n",
    "plt.title(\"Race - Georgia\")\n",
    "# Set labels for the chart\n",
    "plt.xlabel(\"Race\")\n",
    "plt.ylabel(\"Vote Count\")\n",
    "plt.xticks(rotation=90)\n",
    "\n",
    "# Show the graph\n",
    "plt.show()"
   ]
  },
  {
   "cell_type": "code",
   "execution_count": 15,
   "metadata": {
    "scrolled": true
   },
   "outputs": [
    {
     "name": "stdout",
     "output_type": "stream",
     "text": [
      "<class 'pandas.core.frame.DataFrame'>\n",
      "RangeIndex: 7 entries, 0 to 6\n",
      "Data columns (total 3 columns):\n",
      " #   Column   Non-Null Count  Dtype  \n",
      "---  ------   --------------  -----  \n",
      " 0   Race     7 non-null      object \n",
      " 1   Count    7 non-null      object \n",
      " 2   Percent  7 non-null      float64\n",
      "dtypes: float64(1), object(2)\n",
      "memory usage: 296.0+ bytes\n"
     ]
    }
   ],
   "source": [
    "georgia_race.info()"
   ]
  },
  {
   "cell_type": "code",
   "execution_count": 16,
   "metadata": {},
   "outputs": [
    {
     "name": "stdout",
     "output_type": "stream",
     "text": [
      "<class 'pandas.core.frame.DataFrame'>\n",
      "RangeIndex: 4 entries, 0 to 3\n",
      "Data columns (total 3 columns):\n",
      " #   Column   Non-Null Count  Dtype  \n",
      "---  ------   --------------  -----  \n",
      " 0   Gender   4 non-null      object \n",
      " 1   Count    4 non-null      object \n",
      " 2   Percent  4 non-null      float64\n",
      "dtypes: float64(1), object(2)\n",
      "memory usage: 224.0+ bytes\n"
     ]
    }
   ],
   "source": [
    "georgia_gender.info()"
   ]
  },
  {
   "cell_type": "code",
   "execution_count": 26,
   "metadata": {},
   "outputs": [
    {
     "data": {
      "text/html": [
       "<div>\n",
       "<style scoped>\n",
       "    .dataframe tbody tr th:only-of-type {\n",
       "        vertical-align: middle;\n",
       "    }\n",
       "\n",
       "    .dataframe tbody tr th {\n",
       "        vertical-align: top;\n",
       "    }\n",
       "\n",
       "    .dataframe thead th {\n",
       "        text-align: right;\n",
       "    }\n",
       "</style>\n",
       "<table border=\"1\" class=\"dataframe\">\n",
       "  <thead>\n",
       "    <tr style=\"text-align: right;\">\n",
       "      <th></th>\n",
       "      <th>Count</th>\n",
       "      <th>Non-Hispanic White</th>\n",
       "      <th>Non-Hispanic Black</th>\n",
       "      <th>Hispanic</th>\n",
       "      <th>Non-Hispanic Asian American</th>\n",
       "      <th>Non-Hispanic Native American</th>\n",
       "      <th>18 to 24</th>\n",
       "      <th>25 to 34</th>\n",
       "      <th>35 to 44</th>\n",
       "      <th>45 and 55</th>\n",
       "      <th>56 and 65</th>\n",
       "      <th>66 and up</th>\n",
       "      <th>Age Unknown</th>\n",
       "      <th>Female</th>\n",
       "      <th>Male</th>\n",
       "      <th>Unknown</th>\n",
       "    </tr>\n",
       "  </thead>\n",
       "  <tbody>\n",
       "    <tr>\n",
       "      <th>0</th>\n",
       "      <td>Total Vote Count</td>\n",
       "      <td>2266958</td>\n",
       "      <td>1110567</td>\n",
       "      <td>105852</td>\n",
       "      <td>102368</td>\n",
       "      <td>5,592</td>\n",
       "      <td>319839</td>\n",
       "      <td>504417</td>\n",
       "      <td>579464</td>\n",
       "      <td>714182</td>\n",
       "      <td>780824</td>\n",
       "      <td>1043040</td>\n",
       "      <td>71389</td>\n",
       "      <td>2214817</td>\n",
       "      <td>1720269</td>\n",
       "      <td>78069</td>\n",
       "    </tr>\n",
       "    <tr>\n",
       "      <th>1</th>\n",
       "      <td>Total Early Vote Count</td>\n",
       "      <td>1568388</td>\n",
       "      <td>710903</td>\n",
       "      <td>71176</td>\n",
       "      <td>53083</td>\n",
       "      <td>3,655</td>\n",
       "      <td>225962</td>\n",
       "      <td>369971</td>\n",
       "      <td>442379</td>\n",
       "      <td>553042</td>\n",
       "      <td>552675</td>\n",
       "      <td>494608</td>\n",
       "      <td>56126</td>\n",
       "      <td>1469516</td>\n",
       "      <td>1164784</td>\n",
       "      <td>60463</td>\n",
       "    </tr>\n",
       "  </tbody>\n",
       "</table>\n",
       "</div>"
      ],
      "text/plain": [
       "                    Count  Non-Hispanic White  Non-Hispanic Black  Hispanic  \\\n",
       "0        Total Vote Count             2266958             1110567    105852   \n",
       "1  Total Early Vote Count             1568388              710903     71176   \n",
       "\n",
       "   Non-Hispanic Asian American Non-Hispanic Native American  18 to 24  \\\n",
       "0                       102368                        5,592    319839   \n",
       "1                        53083                        3,655    225962   \n",
       "\n",
       "   25 to 34  35 to 44  45 and 55  56 and 65  66 and up  Age Unknown   Female  \\\n",
       "0    504417    579464     714182     780824    1043040        71389  2214817   \n",
       "1    369971    442379     553042     552675     494608        56126  1469516   \n",
       "\n",
       "     Male   Unknown  \n",
       "0  1720269    78069  \n",
       "1  1164784    60463  "
      ]
     },
     "execution_count": 26,
     "metadata": {},
     "output_type": "execute_result"
    }
   ],
   "source": [
    "# Study data files\n",
    "file_to_load_5 = \"/Users/adesolafakiyesi/Desktop/Project1/Resources/georgia_tv_tev.csv\"\n",
    "\n",
    "# # Read the mouse data and the study results\n",
    "georgia_tv_tev_data = pd.read_csv(file_to_load_5)\n",
    "\n",
    "# Display the data table for preview\n",
    "georgia_tv_tev_data.head()"
   ]
  },
  {
   "cell_type": "code",
   "execution_count": 27,
   "metadata": {},
   "outputs": [
    {
     "data": {
      "image/png": "[encoded data removed]",
      "text/plain": [
       "<Figure size 576x432 with 1 Axes>"
      ]
     },
     "metadata": {
      "needs_background": "light"
     },
     "output_type": "display_data"
    }
   ],
   "source": [
    "#Graph data from Georgia on Race\n",
    "color = [\"cyan\", \"fuchsia\"]\n",
    "Total_vote_count = [2266958, 1110567, 105852, 102368, 5,592]\n",
    "Total_early_vote_count = [1568388, 710903, 71176, 53083, 3,655]\n",
    "index = [\"Non-Hispanic White\", \"Non-Hispanic Black\", \"Hispanic\", \n",
    "         \"Non-Hispanic Asian American\", \"Non-Hispanic Native American\", \"Other/Multiple/Unknown\"]\n",
    "race_df = pd.DataFrame({\"Total Vote Count\": Total_vote_count,\n",
    "                        \"Total Early Vote Count\": Total_early_vote_count}, index=index)\n",
    "ax = race_df.plot.bar(color=color, rot=0, figsize=(8,6))\n",
    "ax.legend(loc='best')\n",
    "plt.rcParams['font.size'] = 14\n",
    "# Set a title for the chart\n",
    "plt.title(\"Total Vote Count vs Total Early Vote Count\")\n",
    "# Set labels for the chart\n",
    "plt.xlabel(\"Race\")\n",
    "plt.ylabel(\"Total Votes (millions)\")\n",
    "plt.xticks(rotation=90)\n",
    "#Show the graph\n",
    "plt.show()"
   ]
  },
  {
   "cell_type": "code",
   "execution_count": 28,
   "metadata": {},
   "outputs": [
    {
     "data": {
      "image/png": "[encoded data removed]",
      "text/plain": [
       "<Figure size 576x432 with 1 Axes>"
      ]
     },
     "metadata": {
      "needs_background": "light"
     },
     "output_type": "display_data"
    }
   ],
   "source": [
    "#Graph data from Georgia on Age Range\n",
    "color = [\"Orange\", \"Olive\"]\n",
    "Total_vote_count = [319839, 504417, 579464, 714182, 780824, 1043040, 71389]\n",
    "Total_early_vote_count = [225962, 369971, 442379, 553042, 552675, 494608, 56126]\n",
    "index = [\"18 to 24\", \"25 to 34\", \"35 to 44\", \n",
    "         \"45 and 55\", \"56 and 65\", \"66 and Up\", \"Age Unknown\"]\n",
    "race_df = pd.DataFrame({\"Total Vote Count\": Total_vote_count,\n",
    "                        \"Total Early Vote Count\": Total_early_vote_count}, index=index)\n",
    "ax = race_df.plot.bar(color=color, rot=0, figsize=(8,6))\n",
    "ax.legend(loc='best')\n",
    "plt.rcParams['font.size'] = 14\n",
    "# Set a title for the chart\n",
    "plt.title(\"Total Vote Count vs Total Early Vote Count\")\n",
    "# Set labels for the chart\n",
    "plt.xlabel(\"Age Ranges\")\n",
    "plt.ylabel(\"Total Votes (millions)\")\n",
    "plt.xticks(rotation=90)\n",
    "#Show the graph\n",
    "plt.show()"
   ]
  },
  {
   "cell_type": "code",
   "execution_count": 29,
   "metadata": {},
   "outputs": [
    {
     "data": {
      "image/png": "[encoded data removed]",
      "text/plain": [
       "<Figure size 576x432 with 1 Axes>"
      ]
     },
     "metadata": {
      "needs_background": "light"
     },
     "output_type": "display_data"
    }
   ],
   "source": [
    "#Graph data from Gorgia on Gender\n",
    "color = [\"purple\", \"crimson\"]\n",
    "Total_vote_count = [2266958, 1720269, 78069]\n",
    "Total_early_vote_count = [1469516, 1164784, 60463]\n",
    "index = [\"Female\", \"Male\", \"Unknown\"]\n",
    "race_df = pd.DataFrame({\"Total Vote Count\": Total_vote_count,\n",
    "                        \"Total Early Vote Count\": Total_early_vote_count}, index=index)\n",
    "ax = race_df.plot.bar(color=color, rot=0, figsize=(8,6))\n",
    "ax.legend(loc='best')\n",
    "plt.rcParams['font.size'] = 14\n",
    "# Set a title for the chart\n",
    "plt.title(\"Total Vote Count vs Total Early Vote Count\")\n",
    "# Set labels for the chart\n",
    "plt.xlabel(\"Gender\")\n",
    "plt.ylabel(\"Total Votes (millions)\")\n",
    "plt.xticks(rotation=90)\n",
    "#Show the graph\n",
    "plt.show()"
   ]
  },
  {
   "cell_type": "code",
   "execution_count": null,
   "metadata": {},
   "outputs": [],
   "source": []
  }
 ],
 "metadata": {
  "kernelspec": {
   "display_name": "Python 3",
   "language": "python",
   "name": "python3"
  },
  "language_info": {
   "codemirror_mode": {
    "name": "ipython",
    "version": 3
   },
   "file_extension": ".py",
   "mimetype": "text/x-python",
   "name": "python",
   "nbconvert_exporter": "python",
   "pygments_lexer": "ipython3",
   "version": "3.8.3"
  }
 },
 "nbformat": 4,
 "nbformat_minor": 4
}
